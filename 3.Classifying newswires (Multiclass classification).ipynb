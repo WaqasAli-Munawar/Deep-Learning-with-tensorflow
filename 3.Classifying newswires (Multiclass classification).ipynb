{
 "cells": [
  {
   "cell_type": "markdown",
   "metadata": {},
   "source": [
    "# Chapter 3"
   ]
  },
  {
   "cell_type": "markdown",
   "metadata": {},
   "source": [
    "### Classifying newswires:multiclass classification example"
   ]
  },
  {
   "cell_type": "markdown",
   "metadata": {},
   "source": [
    "We saw how to classify vector inputs into two mutually exclusive classes using a densely connected neural network. But what happens when we have more than two classes?"
   ]
  },
  {
   "cell_type": "markdown",
   "metadata": {},
   "source": [
    "We’ll build a network to classify **Reuters newswires** into **46 mutually exclusive topics**. \n",
    "\n",
    "* Because we have many classes, this problem is an instance of **multiclass classification**; \n",
    "* Because each data point should be classified into only one category,the problem is more specifically an instance of **single-label, multiclass classification**.\n",
    "* If each data point could belong to **multiple categories** (in this case, topics), we’d be facing a **multilabel, multiclass classification problem**."
   ]
  },
  {
   "cell_type": "markdown",
   "metadata": {},
   "source": [
    "### The Reuters dataset\n",
    "\n",
    "We’ll work with the **Reuters dataset**, a set of short newswires and their topics, published by Reuters in 1986. It’s a simple, widely used toy dataset for text classification. There are 46 different topics; some topics are more represented than others, but each topic has at least 10 examples in the training set.\n",
    "\n",
    "Like **IMDB** and **MNIST**, the **Reuters dataset** comes packaged as part of Keras/Tensorflow."
   ]
  },
  {
   "cell_type": "code",
   "execution_count": 1,
   "metadata": {},
   "outputs": [],
   "source": [
    "from tensorflow.keras.datasets import reuters"
   ]
  },
  {
   "cell_type": "code",
   "execution_count": 3,
   "metadata": {},
   "outputs": [
    {
     "name": "stderr",
     "output_type": "stream",
     "text": [
      "C:\\ProgramData\\Anaconda3\\lib\\site-packages\\tensorflow\\python\\keras\\datasets\\reuters.py:148: VisibleDeprecationWarning: Creating an ndarray from ragged nested sequences (which is a list-or-tuple of lists-or-tuples-or ndarrays with different lengths or shapes) is deprecated. If you meant to do this, you must specify 'dtype=object' when creating the ndarray\n",
      "  x_train, y_train = np.array(xs[:idx]), np.array(labels[:idx])\n",
      "C:\\ProgramData\\Anaconda3\\lib\\site-packages\\tensorflow\\python\\keras\\datasets\\reuters.py:149: VisibleDeprecationWarning: Creating an ndarray from ragged nested sequences (which is a list-or-tuple of lists-or-tuples-or ndarrays with different lengths or shapes) is deprecated. If you meant to do this, you must specify 'dtype=object' when creating the ndarray\n",
      "  x_test, y_test = np.array(xs[idx:]), np.array(labels[idx:])\n"
     ]
    }
   ],
   "source": [
    "(train_data, train_labels), (test_data, test_labels) = reuters.load_data(num_words=10000)"
   ]
  },
  {
   "cell_type": "markdown",
   "metadata": {},
   "source": [
    "As with the IMDB dataset, the argument `num_words=10000` restricts the data to the 10,000 most frequently occurring words found in the data."
   ]
  },
  {
   "cell_type": "code",
   "execution_count": 8,
   "metadata": {},
   "outputs": [
    {
     "name": "stdout",
     "output_type": "stream",
     "text": [
      "(8982,) (2246,)\n",
      "(8982,) (2246,)\n"
     ]
    }
   ],
   "source": [
    "print(train_data.shape,test_data.shape)\n",
    "print(train_labels.shape,test_labels.shape)"
   ]
  },
  {
   "cell_type": "markdown",
   "metadata": {},
   "source": [
    "We have 8,982 training examples and 2,246 test examples.\n",
    "\n",
    "As with the **IMDB reviews**, each example is a list of integers (word indices):"
   ]
  },
  {
   "cell_type": "code",
   "execution_count": 12,
   "metadata": {},
   "outputs": [
    {
     "name": "stdout",
     "output_type": "stream",
     "text": [
      "[1, 2, 2, 8, 43, 10, 447, 5, 25, 207, 270, 5, 3095, 111, 16, 369, 186, 90, 67, 7, 89, 5, 19, 102, 6, 19, 124, 15, 90, 67, 84, 22, 482, 26, 7, 48, 4, 49, 8, 864, 39, 209, 154, 6, 151, 6, 83, 11, 15, 22, 155, 11, 15, 7, 48, 9, 4579, 1005, 504, 6, 258, 6, 272, 11, 15, 22, 134, 44, 11, 15, 16, 8, 197, 1245, 90, 67, 52, 29, 209, 30, 32, 132, 6, 109, 15, 17, 12]\n"
     ]
    }
   ],
   "source": [
    "print(train_data[0])"
   ]
  },
  {
   "cell_type": "code",
   "execution_count": 13,
   "metadata": {},
   "outputs": [
    {
     "name": "stdout",
     "output_type": "stream",
     "text": [
      "3\n"
     ]
    }
   ],
   "source": [
    "print(train_labels[0])"
   ]
  },
  {
   "cell_type": "code",
   "execution_count": 15,
   "metadata": {},
   "outputs": [],
   "source": [
    "# Encoding the data\n",
    "# One hot encoding (Manually)\n",
    "\n",
    "import numpy as np\n",
    "\n",
    "def vectorize_sequences(sequences, dimension=10000):\n",
    "    results = np.zeros((len(sequences), dimension))\n",
    "    for i, sequence in enumerate(sequences):\n",
    "        results[i, sequence] = 1\n",
    "    return results\n",
    "\n",
    "x_train = vectorize_sequences(train_data)\n",
    "x_test = vectorize_sequences(test_data)"
   ]
  },
  {
   "cell_type": "markdown",
   "metadata": {},
   "source": [
    "# Vectorize the Train and Test Labels:\n",
    "\n",
    "To vectorize the labels, there are two possibilities: \n",
    "\n",
    "1. We can cast the label list as an integer tensor, or \n",
    "2. We can use one-hot encoding. \n",
    "\n",
    "One-hot encoding is a widely used format for categorical data, also called **categorical encoding**. In this case, one-hot encoding of the labels consists of embedding each label as an all-zero vector with a 1 in the place of the label index. Here’s an example:"
   ]
  },
  {
   "cell_type": "code",
   "execution_count": 16,
   "metadata": {},
   "outputs": [],
   "source": [
    "def to_one_hot(labels, dimension=46):\n",
    "    results = np.zeros((len(labels), dimension))\n",
    "    for i, label in enumerate(labels):\n",
    "        results[i, label] = 1\n",
    "    return results\n",
    "\n",
    "one_hot_train_labels = to_one_hot(train_labels)\n",
    "one_hot_test_labels = to_one_hot(test_labels)"
   ]
  },
  {
   "cell_type": "markdown",
   "metadata": {},
   "source": [
    "There is a built-in way to do this in Keras/Tensorflow"
   ]
  },
  {
   "cell_type": "code",
   "execution_count": 19,
   "metadata": {},
   "outputs": [],
   "source": [
    "from tensorflow.keras.utils import to_categorical\n",
    "\n",
    "one_hot_train_labels = to_categorical(train_labels)\n",
    "one_hot_test_labels = to_categorical(test_labels)"
   ]
  },
  {
   "cell_type": "code",
   "execution_count": 31,
   "metadata": {},
   "outputs": [
    {
     "name": "stdout",
     "output_type": "stream",
     "text": [
      "\n",
      "Before Encoding\n",
      "\n",
      "3\n",
      "\n",
      "After Encoding\n",
      "\n",
      "[0. 0. 0. 1. 0. 0. 0. 0. 0. 0. 0. 0. 0. 0. 0. 0. 0. 0. 0. 0. 0. 0. 0. 0.\n",
      " 0. 0. 0. 0. 0. 0. 0. 0. 0. 0. 0. 0. 0. 0. 0. 0. 0. 0. 0. 0. 0. 0.]\n"
     ]
    }
   ],
   "source": [
    "print(\"\\nBefore Encoding\\n\")\n",
    "print(train_labels[0])\n",
    "print(\"\\nAfter Encoding\\n\")\n",
    "print(one_hot_train_labels[0])"
   ]
  },
  {
   "cell_type": "markdown",
   "metadata": {},
   "source": [
    "### Building our network\n",
    "\n",
    "This topic-classification problem looks similar to the movie-review classification problem: in both cases, we’re trying to classify short snippets of text. \n",
    "\n",
    "But there is a new constraint here: \n",
    "* the number of output classes has gone from 2 to 46. \n",
    "* The dimensionality of the output space is much larger.\n",
    "\n",
    "In a stack of Dense layers like we’ve been using, each layer can only access information present in the output of the previous layer. If one layer drops some information relevant to the classification problem, this information can never be recovered by later layers: each layer can potentially become an information bottleneck. \n",
    "\n",
    "In the previous file, we used 16-dimensional intermediate layers, but a 16-dimensional space may\n",
    "be too limited to learn to separate 46 different classes: such small layers may act as information bottlenecks, permanently dropping relevant information.\n",
    "\n",
    "This reason we’ll use larger layers. Let’s go with 64 units."
   ]
  },
  {
   "cell_type": "code",
   "execution_count": 32,
   "metadata": {},
   "outputs": [],
   "source": [
    "from tensorflow.keras import models\n",
    "from tensorflow.keras import layers"
   ]
  },
  {
   "cell_type": "code",
   "execution_count": 33,
   "metadata": {},
   "outputs": [],
   "source": [
    "model = models.Sequential()\n",
    "model.add(layers.Dense(64, activation='relu', input_shape=(10000,)))\n",
    "model.add(layers.Dense(64, activation='relu'))\n",
    "model.add(layers.Dense(46, activation='softmax'))"
   ]
  },
  {
   "cell_type": "markdown",
   "metadata": {},
   "source": [
    "There are two other things we should note about this architecture:\n",
    "\n",
    "1. We end the network with a Dense layer of size 46. This means for each input sample, the network will output a 46-dimensional vector. Each entry in this vector (each dimension) will encode a different output class.\n",
    "2. The last layer uses a `softmax` activation. We saw this pattern in the MNIST\n",
    "example. It means the network will output a probability distribution over the 46\n",
    "different output classes—for every input sample, the network will produce a 46-dimensional output vector, where `output[i]` is the probability that the sample belongs to class `i`. The 46 scores will sum to 1."
   ]
  },
  {
   "cell_type": "markdown",
   "metadata": {},
   "source": [
    "The **best loss function** to use in this case is **categorical_crossentropy**. It measures\n",
    "the distance between two probability distributions: \n",
    "* here, between the probability distribution output by the network and the true distribution of the labels. \n",
    "\n",
    "By minimizing the distance between these two distributions, we train the network to output something\n",
    "as close as possible to the true labels."
   ]
  },
  {
   "cell_type": "code",
   "execution_count": 34,
   "metadata": {},
   "outputs": [],
   "source": [
    "# Compiling the model\n",
    "\n",
    "model.compile(optimizer='rmsprop', loss='categorical_crossentropy', metrics=['accuracy'])"
   ]
  },
  {
   "cell_type": "code",
   "execution_count": 35,
   "metadata": {},
   "outputs": [],
   "source": [
    "# Validating our approach\n",
    "# Let’s set apart 1,000 samples in the training data to use as a validation set.\n",
    "\n",
    "x_val = x_train[:1000]\n",
    "partial_x_train = x_train[1000:]\n",
    "\n",
    "y_val = one_hot_train_labels[:1000]\n",
    "partial_y_train = one_hot_train_labels[1000:]"
   ]
  },
  {
   "cell_type": "code",
   "execution_count": 36,
   "metadata": {},
   "outputs": [
    {
     "name": "stdout",
     "output_type": "stream",
     "text": [
      "Epoch 1/20\n",
      "16/16 [==============================] - 10s 182ms/step - loss: 3.1329 - accuracy: 0.4164 - val_loss: 1.7859 - val_accuracy: 0.6210\n",
      "Epoch 2/20\n",
      "16/16 [==============================] - 1s 73ms/step - loss: 1.5503 - accuracy: 0.6839 - val_loss: 1.3345 - val_accuracy: 0.6950\n",
      "Epoch 3/20\n",
      "16/16 [==============================] - 1s 82ms/step - loss: 1.0879 - accuracy: 0.7744 - val_loss: 1.1239 - val_accuracy: 0.7570\n",
      "Epoch 4/20\n",
      "16/16 [==============================] - 1s 75ms/step - loss: 0.8532 - accuracy: 0.8227 - val_loss: 1.0293 - val_accuracy: 0.7840\n",
      "Epoch 5/20\n",
      "16/16 [==============================] - 1s 74ms/step - loss: 0.6756 - accuracy: 0.8600 - val_loss: 0.9582 - val_accuracy: 0.7890\n",
      "Epoch 6/20\n",
      "16/16 [==============================] - 1s 75ms/step - loss: 0.5180 - accuracy: 0.8958 - val_loss: 0.9108 - val_accuracy: 0.8010\n",
      "Epoch 7/20\n",
      "16/16 [==============================] - 1s 69ms/step - loss: 0.4190 - accuracy: 0.9168 - val_loss: 0.8932 - val_accuracy: 0.8080\n",
      "Epoch 8/20\n",
      "16/16 [==============================] - 1s 70ms/step - loss: 0.3360 - accuracy: 0.9339 - val_loss: 0.8921 - val_accuracy: 0.8150\n",
      "Epoch 9/20\n",
      "16/16 [==============================] - 1s 77ms/step - loss: 0.2732 - accuracy: 0.9403 - val_loss: 0.8734 - val_accuracy: 0.8270\n",
      "Epoch 10/20\n",
      "16/16 [==============================] - 3s 195ms/step - loss: 0.2240 - accuracy: 0.9513 - val_loss: 0.8786 - val_accuracy: 0.8270\n",
      "Epoch 11/20\n",
      "16/16 [==============================] - 1s 74ms/step - loss: 0.1928 - accuracy: 0.9544 - val_loss: 0.9381 - val_accuracy: 0.8080\n",
      "Epoch 12/20\n",
      "16/16 [==============================] - 1s 68ms/step - loss: 0.1694 - accuracy: 0.9571 - val_loss: 0.9796 - val_accuracy: 0.8010\n",
      "Epoch 13/20\n",
      "16/16 [==============================] - 1s 70ms/step - loss: 0.1493 - accuracy: 0.9610 - val_loss: 0.9314 - val_accuracy: 0.8170\n",
      "Epoch 14/20\n",
      "16/16 [==============================] - 1s 77ms/step - loss: 0.1345 - accuracy: 0.9587 - val_loss: 0.9879 - val_accuracy: 0.8030\n",
      "Epoch 15/20\n",
      "16/16 [==============================] - 1s 78ms/step - loss: 0.1303 - accuracy: 0.9620 - val_loss: 1.0153 - val_accuracy: 0.8040\n",
      "Epoch 16/20\n",
      "16/16 [==============================] - 1s 71ms/step - loss: 0.1185 - accuracy: 0.9599 - val_loss: 0.9732 - val_accuracy: 0.8240\n",
      "Epoch 17/20\n",
      "16/16 [==============================] - 1s 68ms/step - loss: 0.1183 - accuracy: 0.9587 - val_loss: 1.0194 - val_accuracy: 0.8200\n",
      "Epoch 18/20\n",
      "16/16 [==============================] - 1s 72ms/step - loss: 0.1073 - accuracy: 0.9628 - val_loss: 1.0929 - val_accuracy: 0.7950\n",
      "Epoch 19/20\n",
      "16/16 [==============================] - 1s 66ms/step - loss: 0.1167 - accuracy: 0.9573 - val_loss: 1.0953 - val_accuracy: 0.8080\n",
      "Epoch 20/20\n",
      "16/16 [==============================] - 1s 67ms/step - loss: 0.0948 - accuracy: 0.9660 - val_loss: 1.0388 - val_accuracy: 0.8120\n"
     ]
    }
   ],
   "source": [
    "# Training the model\n",
    "\n",
    "history = model.fit(partial_x_train,partial_y_train,epochs=20,batch_size=512,\n",
    "                    validation_data=(x_val, y_val))"
   ]
  },
  {
   "cell_type": "code",
   "execution_count": 42,
   "metadata": {},
   "outputs": [
    {
     "data": {
      "text/plain": [
       "dict_keys(['loss', 'accuracy', 'val_loss', 'val_accuracy'])"
      ]
     },
     "execution_count": 42,
     "metadata": {},
     "output_type": "execute_result"
    }
   ],
   "source": [
    "history.history.keys()"
   ]
  },
  {
   "cell_type": "markdown",
   "metadata": {},
   "source": [
    "### Plotting the training and validation loss\n",
    "\n",
    "Finally, let’s display its loss and accuracy curves"
   ]
  },
  {
   "cell_type": "code",
   "execution_count": 37,
   "metadata": {},
   "outputs": [
    {
     "data": {
      "image/png": "[encoded data removed]",
      "text/plain": [
       "<Figure size 432x288 with 1 Axes>"
      ]
     },
     "metadata": {
      "needs_background": "light"
     },
     "output_type": "display_data"
    }
   ],
   "source": [
    "import matplotlib.pyplot as plt\n",
    "\n",
    "loss = history.history['loss']\n",
    "val_loss = history.history['val_loss']\n",
    "epochs = range(1, len(loss) + 1)\n",
    "\n",
    "plt.plot(epochs, loss, 'bo', label='Training loss')\n",
    "plt.plot(epochs, val_loss, 'b', label='Validation loss')\n",
    "plt.title('Training and validation loss')\n",
    "plt.xlabel('Epochs')\n",
    "plt.ylabel('Loss')\n",
    "plt.legend()\n",
    "plt.show()"
   ]
  },
  {
   "cell_type": "markdown",
   "metadata": {},
   "source": [
    "### Plotting the training and validation accuracy"
   ]
  },
  {
   "cell_type": "code",
   "execution_count": 43,
   "metadata": {},
   "outputs": [
    {
     "data": {
      "image/png": "[encoded data removed]",
      "text/plain": [
       "<Figure size 432x288 with 1 Axes>"
      ]
     },
     "metadata": {
      "needs_background": "light"
     },
     "output_type": "display_data"
    }
   ],
   "source": [
    "plt.clf() # clear the figures\n",
    "\n",
    "acc = history.history['accuracy']\n",
    "val_acc = history.history['val_accuracy']\n",
    "\n",
    "plt.plot(epochs, acc, 'bo', label='Training acc')\n",
    "plt.plot(epochs, val_acc, 'b', label='Validation acc')\n",
    "plt.title('Training and validation accuracy')\n",
    "plt.xlabel('Epochs')\n",
    "plt.ylabel('Loss')\n",
    "plt.legend()\n",
    "plt.show()"
   ]
  },
  {
   "cell_type": "markdown",
   "metadata": {},
   "source": [
    "The network begins to overfit after nine epochs. Let’s train a new network from scratch for nine epochs and then evaluate it on the test set."
   ]
  },
  {
   "cell_type": "code",
   "execution_count": 57,
   "metadata": {},
   "outputs": [
    {
     "name": "stdout",
     "output_type": "stream",
     "text": [
      "Epoch 1/9\n",
      "16/16 [==============================] - 10s 167ms/step - loss: 3.1711 - accuracy: 0.4073 - val_loss: 1.7972 - val_accuracy: 0.6320\n",
      "Epoch 2/9\n",
      "16/16 [==============================] - 1s 60ms/step - loss: 1.5788 - accuracy: 0.6867 - val_loss: 1.3612 - val_accuracy: 0.7020\n",
      "Epoch 3/9\n",
      "16/16 [==============================] - 1s 62ms/step - loss: 1.1255 - accuracy: 0.7642 - val_loss: 1.1610 - val_accuracy: 0.7570\n",
      "Epoch 4/9\n",
      "16/16 [==============================] - 1s 57ms/step - loss: 0.8589 - accuracy: 0.8192 - val_loss: 1.0553 - val_accuracy: 0.7780\n",
      "Epoch 5/9\n",
      "16/16 [==============================] - 1s 58ms/step - loss: 0.6749 - accuracy: 0.8593 - val_loss: 0.9924 - val_accuracy: 0.8060\n",
      "Epoch 6/9\n",
      "16/16 [==============================] - 1s 62ms/step - loss: 0.5343 - accuracy: 0.8970 - val_loss: 0.9470 - val_accuracy: 0.8040\n",
      "Epoch 7/9\n",
      "16/16 [==============================] - 1s 72ms/step - loss: 0.4342 - accuracy: 0.9165 - val_loss: 0.9336 - val_accuracy: 0.8080\n",
      "Epoch 8/9\n",
      "16/16 [==============================] - 1s 62ms/step - loss: 0.3579 - accuracy: 0.9299 - val_loss: 0.9216 - val_accuracy: 0.8170\n",
      "Epoch 9/9\n",
      "16/16 [==============================] - 1s 70ms/step - loss: 0.2801 - accuracy: 0.9417 - val_loss: 0.9196 - val_accuracy: 0.8150\n"
     ]
    },
    {
     "data": {
      "text/plain": [
       "<tensorflow.python.keras.callbacks.History at 0x235df7d2288>"
      ]
     },
     "execution_count": 57,
     "metadata": {},
     "output_type": "execute_result"
    }
   ],
   "source": [
    "# Retraining a model from scratch\n",
    "\n",
    "model = models.Sequential()\n",
    "model.add(layers.Dense(64, activation='relu', input_shape=(10000,)))\n",
    "model.add(layers.Dense(64, activation='relu'))\n",
    "model.add(layers.Dense(46, activation='softmax'))\n",
    "\n",
    "model.compile(optimizer='rmsprop',loss='categorical_crossentropy',metrics=['accuracy'])\n",
    "\n",
    "model.fit(partial_x_train,partial_y_train,epochs=9,batch_size=512,\n",
    "          validation_data=(x_val, y_val))"
   ]
  },
  {
   "cell_type": "code",
   "execution_count": 58,
   "metadata": {},
   "outputs": [
    {
     "name": "stdout",
     "output_type": "stream",
     "text": [
      "71/71 [==============================] - 1s 4ms/step - loss: 0.9804 - accuracy: 0.7943\n"
     ]
    }
   ],
   "source": [
    "results = model.evaluate(x_test, one_hot_test_labels)"
   ]
  },
  {
   "cell_type": "code",
   "execution_count": 59,
   "metadata": {},
   "outputs": [
    {
     "data": {
      "text/plain": [
       "[0.9804096221923828, 0.7943009734153748]"
      ]
     },
     "execution_count": 59,
     "metadata": {},
     "output_type": "execute_result"
    }
   ],
   "source": [
    "results"
   ]
  },
  {
   "cell_type": "markdown",
   "metadata": {},
   "source": [
    "This approach reaches an accuracy of **80%**. With a **balanced binary classification** problem, the accuracy reached by a purely random classifier would be **50%**. But in this case it’s closer to **19%** (see below code), so the results seem pretty good, at least when compared to a random baseline:"
   ]
  },
  {
   "cell_type": "code",
   "execution_count": 64,
   "metadata": {},
   "outputs": [],
   "source": [
    "import copy\n",
    "\n",
    "test_labels_copy = copy.copy(test_labels)"
   ]
  },
  {
   "cell_type": "code",
   "execution_count": 65,
   "metadata": {},
   "outputs": [
    {
     "name": "stdout",
     "output_type": "stream",
     "text": [
      "3 3\n"
     ]
    }
   ],
   "source": [
    "print(test_labels[0],test_labels_copy[0])"
   ]
  },
  {
   "cell_type": "code",
   "execution_count": 66,
   "metadata": {},
   "outputs": [
    {
     "data": {
      "text/plain": [
       "0.19011576135351738"
      ]
     },
     "execution_count": 66,
     "metadata": {},
     "output_type": "execute_result"
    }
   ],
   "source": [
    "np.random.shuffle(test_labels_copy)\n",
    "hits_array = np.array(test_labels) == np.array(test_labels_copy)\n",
    "float(np.sum(hits_array)) / len(test_labels)"
   ]
  },
  {
   "cell_type": "code",
   "execution_count": 67,
   "metadata": {},
   "outputs": [],
   "source": [
    "# Predictions for new data\n",
    "\n",
    "predictions = model.predict(x_test)"
   ]
  },
  {
   "cell_type": "code",
   "execution_count": 68,
   "metadata": {},
   "outputs": [
    {
     "data": {
      "text/plain": [
       "(46,)"
      ]
     },
     "execution_count": 68,
     "metadata": {},
     "output_type": "execute_result"
    }
   ],
   "source": [
    "# Each entry in predictions is a vector of length 46:\n",
    "\n",
    "predictions[0].shape"
   ]
  },
  {
   "cell_type": "code",
   "execution_count": 69,
   "metadata": {},
   "outputs": [
    {
     "data": {
      "text/plain": [
       "0.99999994"
      ]
     },
     "execution_count": 69,
     "metadata": {},
     "output_type": "execute_result"
    }
   ],
   "source": [
    "# The coefficients in this vector sum to 1:\n",
    "\n",
    "np.sum(predictions[0])"
   ]
  },
  {
   "cell_type": "code",
   "execution_count": 70,
   "metadata": {},
   "outputs": [
    {
     "data": {
      "text/plain": [
       "3"
      ]
     },
     "execution_count": 70,
     "metadata": {},
     "output_type": "execute_result"
    }
   ],
   "source": [
    "# The largest entry is the predicted class—the class with the highest probability:\n",
    "\n",
    "np.argmax(predictions[0])"
   ]
  },
  {
   "cell_type": "markdown",
   "metadata": {},
   "source": [
    "### A different way to handle the labels and the loss\n",
    "\n",
    "We mentioned earlier that another way to encode the labels would be to cast them as an integer tensor, like this:"
   ]
  },
  {
   "cell_type": "code",
   "execution_count": 71,
   "metadata": {},
   "outputs": [],
   "source": [
    "y_train = np.array(train_labels)\n",
    "y_test = np.array(test_labels)"
   ]
  },
  {
   "cell_type": "code",
   "execution_count": 79,
   "metadata": {},
   "outputs": [
    {
     "data": {
      "text/plain": [
       "(numpy.ndarray, numpy.ndarray)"
      ]
     },
     "execution_count": 79,
     "metadata": {},
     "output_type": "execute_result"
    }
   ],
   "source": [
    "type(train_labels),type(y_train)"
   ]
  },
  {
   "cell_type": "markdown",
   "metadata": {},
   "source": [
    "The only thing this approach would change is the **choice of the loss function**. \n",
    "* The loss function used in listing, **categorical_crossentropy**, expects the labels to follow a categorical encoding.\n",
    "* With integer labels, we should use **sparse_categorical_crossentropy**"
   ]
  },
  {
   "cell_type": "markdown",
   "metadata": {},
   "source": [
    "`model.compile(optimizer='rmsprop',loss='sparse_categorical_crossentropy',metrics=['acc'])`\n",
    "\n",
    "This new loss function is still mathematically the same as `categorical_crossentropy`;\n",
    "it just has a different interface."
   ]
  },
  {
   "cell_type": "markdown",
   "metadata": {},
   "source": [
    "### The importance of having sufficiently large intermediate layers\n",
    "\n",
    "We mentioned earlier that because the final outputs are 46-dimensional, we should avoid intermediate layers with many fewer than 46 hidden units. \n",
    "\n",
    "Now let’s see what happens when we introduce an information bottleneck by having intermediate layers\n",
    "that are significantly less than 46-dimensional: for example, 4-dimensional."
   ]
  },
  {
   "cell_type": "code",
   "execution_count": 81,
   "metadata": {},
   "outputs": [],
   "source": [
    "model = models.Sequential()\n",
    "model.add(layers.Dense(64, activation='relu', input_shape=(10000,)))\n",
    "model.add(layers.Dense(4, activation='relu'))\n",
    "model.add(layers.Dense(46, activation='softmax'))\n",
    "\n",
    "model.compile(optimizer='rmsprop',loss='categorical_crossentropy',metrics=['accuracy'])"
   ]
  },
  {
   "cell_type": "code",
   "execution_count": 82,
   "metadata": {},
   "outputs": [
    {
     "name": "stdout",
     "output_type": "stream",
     "text": [
      "Epoch 1/20\n",
      "63/63 [==============================] - 3s 35ms/step - loss: 3.6834 - accuracy: 0.0593 - val_loss: 3.2246 - val_accuracy: 0.3910\n",
      "Epoch 2/20\n",
      "63/63 [==============================] - 2s 31ms/step - loss: 2.9771 - accuracy: 0.3947 - val_loss: 2.4520 - val_accuracy: 0.4010 - accura\n",
      "Epoch 3/20\n",
      "63/63 [==============================] - 2s 28ms/step - loss: 2.2385 - accuracy: 0.3995 - val_loss: 1.9903 - val_accuracy: 0.4220\n",
      "Epoch 4/20\n",
      "63/63 [==============================] - 2s 27ms/step - loss: 1.7632 - accuracy: 0.5238 - val_loss: 1.7498 - val_accuracy: 0.5840\n",
      "Epoch 5/20\n",
      "63/63 [==============================] - 2s 27ms/step - loss: 1.5749 - accuracy: 0.5980 - val_loss: 1.6731 - val_accuracy: 0.5930\n",
      "Epoch 6/20\n",
      "63/63 [==============================] - 2s 28ms/step - loss: 1.4489 - accuracy: 0.6118 - val_loss: 1.6419 - val_accuracy: 0.5960\n",
      "Epoch 7/20\n",
      "63/63 [==============================] - 2s 30ms/step - loss: 1.3815 - accuracy: 0.6171 - val_loss: 1.6226 - val_accuracy: 0.5980\n",
      "Epoch 8/20\n",
      "63/63 [==============================] - 2s 28ms/step - loss: 1.3130 - accuracy: 0.6217 - val_loss: 1.6071 - val_accuracy: 0.6110\n",
      "Epoch 9/20\n",
      "63/63 [==============================] - 2s 27ms/step - loss: 1.2593 - accuracy: 0.6303 - val_loss: 1.6187 - val_accuracy: 0.6100\n",
      "Epoch 10/20\n",
      "63/63 [==============================] - 2s 29ms/step - loss: 1.2092 - accuracy: 0.6339 - val_loss: 1.6853 - val_accuracy: 0.6070\n",
      "Epoch 11/20\n",
      "63/63 [==============================] - 2s 28ms/step - loss: 1.2238 - accuracy: 0.6352 - val_loss: 1.7326 - val_accuracy: 0.6120\n",
      "Epoch 12/20\n",
      "63/63 [==============================] - 2s 27ms/step - loss: 1.1664 - accuracy: 0.6498 - val_loss: 1.6994 - val_accuracy: 0.6190\n",
      "Epoch 13/20\n",
      "63/63 [==============================] - 2s 29ms/step - loss: 1.1483 - accuracy: 0.6577 - val_loss: 1.7397 - val_accuracy: 0.6190\n",
      "Epoch 14/20\n",
      "63/63 [==============================] - 2s 30ms/step - loss: 1.1173 - accuracy: 0.6680 - val_loss: 1.8203 - val_accuracy: 0.6160\n",
      "Epoch 15/20\n",
      "63/63 [==============================] - 2s 27ms/step - loss: 1.0958 - accuracy: 0.6702 - val_loss: 1.8458 - val_accuracy: 0.6150\n",
      "Epoch 16/20\n",
      "63/63 [==============================] - 2s 27ms/step - loss: 1.0842 - accuracy: 0.6750 - val_loss: 1.8343 - val_accuracy: 0.6230\n",
      "Epoch 17/20\n",
      "63/63 [==============================] - 2s 28ms/step - loss: 1.0742 - accuracy: 0.6811 - val_loss: 1.9285 - val_accuracy: 0.6060\n",
      "Epoch 18/20\n",
      "63/63 [==============================] - 2s 27ms/step - loss: 1.0272 - accuracy: 0.6918 - val_loss: 1.9954 - val_accuracy: 0.6180\n",
      "Epoch 19/20\n",
      "63/63 [==============================] - 2s 27ms/step - loss: 1.0435 - accuracy: 0.6907 - val_loss: 1.9963 - val_accuracy: 0.6190\n",
      "Epoch 20/20\n",
      "63/63 [==============================] - 2s 28ms/step - loss: 1.0081 - accuracy: 0.7036 - val_loss: 2.0977 - val_accuracy: 0.6220\n"
     ]
    },
    {
     "data": {
      "text/plain": [
       "<tensorflow.python.keras.callbacks.History at 0x235dfa8e4c8>"
      ]
     },
     "execution_count": 82,
     "metadata": {},
     "output_type": "execute_result"
    }
   ],
   "source": [
    "model.fit(partial_x_train,partial_y_train,epochs=20,batch_size=128,\n",
    "          validation_data=(x_val, y_val))"
   ]
  },
  {
   "cell_type": "markdown",
   "metadata": {},
   "source": [
    "The network now peaks at **62% validation accuracy**, an (81-62) **19% absolute drop**. \n",
    "* This drop is mostly due to the fact that we’re trying to compress a lot of information (enough information to recover the separation hyperplanes of 46 classes) into an intermediate space that is too low-dimensional. \n",
    "* The network is able to cram most of the necessary information into these eight dimensional representations, but not all of it."
   ]
  },
  {
   "cell_type": "markdown",
   "metadata": {},
   "source": [
    "### Further experiments\n",
    "* Try using larger or smaller layers: 32 units, 128 units, and so on.\n",
    "* We used two hidden layers. Now try using a single hidden layer, or three hidden layers."
   ]
  },
  {
   "cell_type": "markdown",
   "metadata": {},
   "source": [
    "### Conclusion\n",
    "\n",
    "Here’s what we should take away from this example:\n",
    "* If we’re trying to classify data points among **N** classes, our network should end with a Dense layer of size **N**.\n",
    "* In a single-label, multiclass classification problem, our network should end with a **softmax activation** so that it will output a probability distribution over the **N** output classes.\n",
    "* **Categorical crossentropy** is almost always the loss function we should use for such problems. It minimizes the distance between the probability distributions output by the network and the true distribution of the targets.\n",
    "* There are two ways to handle labels in multiclass classification:\n",
    "    * Encoding the labels via categorical encoding (also known as one-hot encoding) and using **categorical_crossentropy as a loss function**.\n",
    "    * Encoding the labels as integers and using the **sparse_categorical_crossentropy loss function**.\n",
    "* If we need to classify data into a large number of categories, we should avoid creating information bottlenecks in our network due to intermediate layers that are too small."
   ]
  },
  {
   "cell_type": "code",
   "execution_count": null,
   "metadata": {},
   "outputs": [],
   "source": []
  }
 ],
 "metadata": {
  "kernelspec": {
   "display_name": "Python 3",
   "language": "python",
   "name": "python3"
  },
  "language_info": {
   "codemirror_mode": {
    "name": "ipython",
    "version": 3
   },
   "file_extension": ".py",
   "mimetype": "text/x-python",
   "name": "python",
   "nbconvert_exporter": "python",
   "pygments_lexer": "ipython3",
   "version": "3.7.6"
  }
 },
 "nbformat": 4,
 "nbformat_minor": 4
}
