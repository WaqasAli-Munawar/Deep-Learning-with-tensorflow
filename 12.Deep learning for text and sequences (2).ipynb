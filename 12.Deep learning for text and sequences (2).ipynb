{
 "cells": [
  {
   "cell_type": "markdown",
   "metadata": {},
   "source": [
    "# Chapter 6\n",
    "\n",
    "### USING PRETRAINED WORD EMBEDDINGS"
   ]
  },
  {
   "cell_type": "markdown",
   "metadata": {},
   "source": [
    "Sometimes, we have so little training data available that we can’t use our data\n",
    "alone to learn an appropriate task-specific embedding of our vocabulary. What do\n",
    "we do then?\n",
    " \n",
    " \n",
    "Instead of learning word embeddings jointly with the problem we want to solve,\n",
    "we can load embedding vectors from a precomputed embedding space that we\n",
    "know is highly structured and exhibits useful properties—that captures generic\n",
    "aspects of language structure. \n",
    "\n",
    "The rationale behind using pretrained word embeddings in natural-language processing is much the same as for using pretrained convnets in image classification: \n",
    "\n",
    "* We don’t have enough data available to learn truly\n",
    "powerful features on our own, but we expect the features that we need to be fairly\n",
    "generic—that is, common visual features or semantic features. In this case, it makes\n",
    "sense to reuse features learned on a different problem."
   ]
  },
  {
   "cell_type": "markdown",
   "metadata": {},
   "source": [
    "Such word embeddings are generally computed using word-occurrence statistics\n",
    "(observations about what words co-occur in sentences or documents), using a variety of\n",
    "techniques, some involving neural networks, others not.\n",
    "\n",
    "There are various precomputed databases of word embeddings that we can download and use in a **Tensorflow/Keras** Embedding layer. \n",
    "* **Word2vec** (https://code.google.com/archive/p/word2vec), is one of them, developed by Tomas Mikolov at Google in 2013. Word2vec dimensions capture specific semantic properties, such as gender.\n",
    "* Another popular one is called **Global Vectors for Word Representation (GloVe**, https://nlp.stanford\n",
    ".edu/projects/glove), which was developed by Stanford researchers in 2014. This\n",
    "embedding technique is based on factorizing a matrix of word co-occurrence statistics. Its developers have made available precomputed embeddings for millions of\n",
    "English tokens, obtained from Wikipedia data and Common Crawl data."
   ]
  },
  {
   "cell_type": "markdown",
   "metadata": {},
   "source": [
    " Let’s look at how we can get started using **GloVe embeddings** in a Keras model.\n",
    "The same method is valid for **Word2vec embeddings** or any other word-embedding\n",
    "database."
   ]
  },
  {
   "cell_type": "markdown",
   "metadata": {},
   "source": [
    "We’ll use a model similar to the one we went over: \n",
    "* embedding sentences in sequences of vectors, \n",
    "* flattening them, and \n",
    "* training a Dense layer on top. \n",
    "\n",
    "But we’ll do so using pretrained word embeddings; and instead of using the pretokenized IMDB\n",
    "data packaged in **Tensorflow/Keras**. "
   ]
  },
  {
   "cell_type": "markdown",
   "metadata": {},
   "source": [
    "First, head to http://mng.bz/0tIo and download the raw IMDB dataset. Uncompress it.\n",
    " \n",
    "Now, let’s collect the individual training reviews into a list of strings, one string per\n",
    "review. We’ll also collect the review labels (positive/negative) into a labels list."
   ]
  },
  {
   "cell_type": "code",
   "execution_count": 13,
   "metadata": {},
   "outputs": [],
   "source": [
    "# Processing the labels of the raw IMDB data\n",
    "\n",
    "import os\n",
    "imdb_dir = 'aclImdb'\n",
    "train_dir = os.path.join(imdb_dir, 'train')"
   ]
  },
  {
   "cell_type": "code",
   "execution_count": 16,
   "metadata": {},
   "outputs": [],
   "source": [
    "labels = []\n",
    "texts = []\n",
    "\n",
    "for label_type in ['neg', 'pos']:\n",
    "    dir_name = os.path.join(train_dir, label_type)\n",
    "    for fname in os.listdir(dir_name):\n",
    "        if fname[-4:] == '.txt':\n",
    "            f = open(os.path.join(dir_name, fname), encoding = \"utf-8\")\n",
    "            texts.append(f.read())\n",
    "            f.close()\n",
    "            if label_type == 'neg':\n",
    "                labels.append(0)\n",
    "            else:\n",
    "                labels.append(1)"
   ]
  },
  {
   "cell_type": "markdown",
   "metadata": {},
   "source": [
    "### TOKENIZING THE DATA\n",
    "\n",
    "Let’s vectorize the text and prepare a training and validation split. Because pretrained word embeddings are meant to be particularly useful on problems where little training data is available (otherwise, task-specific embeddings are likely to outperform them). \n",
    "\n",
    "We’ll add the following twist:\n",
    "* Restricting the training data to the first 200 samples. So we’ll learn to classify movie reviews after looking at just 200 examples."
   ]
  },
  {
   "cell_type": "code",
   "execution_count": 18,
   "metadata": {},
   "outputs": [],
   "source": [
    "# Tokenizing the text of the raw IMDB data\n",
    "\n",
    "from tensorflow.keras.preprocessing.text import Tokenizer\n",
    "from tensorflow.keras.preprocessing.sequence import pad_sequences\n",
    "import numpy as np"
   ]
  },
  {
   "cell_type": "code",
   "execution_count": 19,
   "metadata": {},
   "outputs": [
    {
     "name": "stdout",
     "output_type": "stream",
     "text": [
      "Found 88582 unique tokens.\n"
     ]
    }
   ],
   "source": [
    "maxlen = 100 # Cuts off reviews after 100 words\n",
    "training_samples = 200 # Trains on 200 samples\n",
    "validation_samples = 10000 # Validates on 10,000 samples\n",
    "max_words = 10000 # Considers only the top 10,000 words in the dataset\n",
    "\n",
    "tokenizer = Tokenizer(num_words=max_words)\n",
    "tokenizer.fit_on_texts(texts)\n",
    "sequences = tokenizer.texts_to_sequences(texts)\n",
    "word_index = tokenizer.word_index\n",
    "\n",
    "print('Found %s unique tokens.' % len(word_index))"
   ]
  },
  {
   "cell_type": "code",
   "execution_count": 20,
   "metadata": {},
   "outputs": [
    {
     "name": "stdout",
     "output_type": "stream",
     "text": [
      "Shape of data tensor: (25000, 100)\n",
      "Shape of label tensor: (25000,)\n"
     ]
    }
   ],
   "source": [
    "data = pad_sequences(sequences, maxlen=maxlen)\n",
    "labels = np.asarray(labels)\n",
    "print('Shape of data tensor:', data.shape)\n",
    "print('Shape of label tensor:', labels.shape)"
   ]
  },
  {
   "cell_type": "code",
   "execution_count": 21,
   "metadata": {},
   "outputs": [],
   "source": [
    "# Splits the data into a training set and a validation set, but first shuffles the data,\n",
    "# because we’re starting with data in which samples are ordered (all negative first, then all positive)\n",
    "\n",
    "indices = np.arange(data.shape[0])\n",
    "np.random.shuffle(indices)\n",
    "data = data[indices]\n",
    "labels = labels[indices]"
   ]
  },
  {
   "cell_type": "code",
   "execution_count": 22,
   "metadata": {},
   "outputs": [],
   "source": [
    "x_train = data[:training_samples]\n",
    "y_train = labels[:training_samples]\n",
    "x_val = data[training_samples: training_samples + validation_samples]\n",
    "y_val = labels[training_samples: training_samples + validation_samples]"
   ]
  },
  {
   "cell_type": "markdown",
   "metadata": {},
   "source": [
    "### DOWNLOADING THE GLOVE WORD EMBEDDINGS\n",
    "\n",
    "Go to https://nlp.stanford.edu/projects/glove, and download the precomputed\n",
    "embeddings from 2014 English Wikipedia. It’s an 822 MB zip file called **glove.6B.zip**,\n",
    "containing 100-dimensional embedding vectors for 400,000 words (or nonword\n",
    "tokens). Unzip it."
   ]
  },
  {
   "cell_type": "markdown",
   "metadata": {},
   "source": [
    "### PREPROCESSING THE EMBEDDINGS\n",
    "\n",
    "Let’s parse the unzipped file (a `.txt` file) to build an index that maps words (as strings)\n",
    "to their vector representation (as number vectors)."
   ]
  },
  {
   "cell_type": "code",
   "execution_count": 24,
   "metadata": {},
   "outputs": [],
   "source": [
    "glove_dir = 'glove.6B'\n",
    "\n",
    "embeddings_index = {}\n",
    "\n",
    "f = open(os.path.join(glove_dir, 'glove.6B.100d.txt'), encoding = \"utf-8\")\n",
    "\n",
    "for line in f:\n",
    "    values = line.split()\n",
    "    word = values[0]\n",
    "    coefs = np.asarray(values[1:], dtype='float32')\n",
    "    embeddings_index[word] = coefs\n",
    "\n",
    "f.close()"
   ]
  },
  {
   "cell_type": "code",
   "execution_count": 25,
   "metadata": {},
   "outputs": [
    {
     "name": "stdout",
     "output_type": "stream",
     "text": [
      "Found 400000 word vectors.\n"
     ]
    }
   ],
   "source": [
    "print('Found %s word vectors.' % len(embeddings_index))"
   ]
  },
  {
   "cell_type": "markdown",
   "metadata": {},
   "source": [
    "Next, we’ll build an embedding matrix that we can load into an Embedding layer. It\n",
    "must be a matrix of shape `(max_words, embedding_dim)`, where each entry `i` contains\n",
    "the `embedding_dim`-dimensional vector for the word of index `i` in the reference word\n",
    "index (built during tokenization). Note that index 0 isn’t supposed to stand for any\n",
    "word or token—it’s a placeholder."
   ]
  },
  {
   "cell_type": "code",
   "execution_count": 27,
   "metadata": {},
   "outputs": [],
   "source": [
    "# Preparing the GloVe word-embeddings matrix\n",
    "\n",
    "embedding_dim = 100\n",
    "embedding_matrix = np.zeros((max_words, embedding_dim))\n",
    "word_index = tokenizer.word_index\n",
    "\n",
    "for word, i in word_index.items(): \n",
    "    if i < max_words: # 10000 max_words\n",
    "        embedding_vector = embeddings_index.get(word)\n",
    "        if embedding_vector is not None:\n",
    "            embedding_matrix[i] = embedding_vector"
   ]
  },
  {
   "cell_type": "code",
   "execution_count": 28,
   "metadata": {},
   "outputs": [
    {
     "name": "stdout",
     "output_type": "stream",
     "text": [
      "Model: \"sequential\"\n",
      "_________________________________________________________________\n",
      "Layer (type)                 Output Shape              Param #   \n",
      "=================================================================\n",
      "embedding (Embedding)        (None, 100, 100)          1000000   \n",
      "_________________________________________________________________\n",
      "flatten (Flatten)            (None, 10000)             0         \n",
      "_________________________________________________________________\n",
      "dense (Dense)                (None, 32)                320032    \n",
      "_________________________________________________________________\n",
      "dense_1 (Dense)              (None, 1)                 33        \n",
      "=================================================================\n",
      "Total params: 1,320,065\n",
      "Trainable params: 1,320,065\n",
      "Non-trainable params: 0\n",
      "_________________________________________________________________\n"
     ]
    }
   ],
   "source": [
    "# Model Building\n",
    "\n",
    "from tensorflow.keras.models import Sequential\n",
    "from tensorflow.keras.layers import Embedding, Flatten, Dense\n",
    "\n",
    "model = Sequential()\n",
    "model.add(Embedding(max_words, embedding_dim, input_length=maxlen))\n",
    "model.add(Flatten())\n",
    "model.add(Dense(32, activation='relu'))\n",
    "model.add(Dense(1, activation='sigmoid'))\n",
    "model.summary()"
   ]
  },
  {
   "cell_type": "markdown",
   "metadata": {},
   "source": [
    "### LOADING THE GLOVE EMBEDDINGS IN THE MODEL\n",
    "\n",
    "The `Embedding` layer has a single weight matrix: \n",
    "* a 2D float matrix \n",
    "\n",
    "where each entry `i` is the word vector meant to be associated with index `i`. Simple enough. Load the GloVe matrix we prepared into the `Embedding` layer, the first layer in the model."
   ]
  },
  {
   "cell_type": "markdown",
   "metadata": {},
   "source": [
    "Additionally, we’ll freeze the `Embedding` layer (set its `trainable` attribute to `False`),\n",
    "following the same rationale we’re already familiar with in the context of pretrained\n",
    "convnet features: \n",
    "* When parts of a model are pretrained (like our `Embedding` layer)\n",
    "and parts are randomly initialized (like our `classifier`), the pretrained parts shouldn’t\n",
    "be updated during training, to avoid forgetting what they already know. The large gradient updates triggered by the randomly initialized layers would be disruptive to the\n",
    "already-learned features."
   ]
  },
  {
   "cell_type": "code",
   "execution_count": 29,
   "metadata": {},
   "outputs": [],
   "source": [
    "# Loading pretrained word embeddings into the Embedding layer\n",
    "\n",
    "model.layers[0].set_weights([embedding_matrix])\n",
    "model.layers[0].trainable = False"
   ]
  },
  {
   "cell_type": "code",
   "execution_count": 30,
   "metadata": {},
   "outputs": [
    {
     "name": "stdout",
     "output_type": "stream",
     "text": [
      "Epoch 1/10\n",
      "7/7 [==============================] - 9s 472ms/step - loss: 1.7721 - acc: 0.5016 - val_loss: 0.7017 - val_acc: 0.5000\n",
      "Epoch 2/10\n",
      "7/7 [==============================] - 1s 155ms/step - loss: 0.5900 - acc: 0.6190 - val_loss: 0.6866 - val_acc: 0.5497\n",
      "Epoch 3/10\n",
      "7/7 [==============================] - 1s 151ms/step - loss: 0.5346 - acc: 0.7866 - val_loss: 0.6864 - val_acc: 0.5397\n",
      "Epoch 4/10\n",
      "7/7 [==============================] - 1s 153ms/step - loss: 0.4307 - acc: 0.9163 - val_loss: 0.7342 - val_acc: 0.5075\n",
      "Epoch 5/10\n",
      "7/7 [==============================] - 1s 178ms/step - loss: 0.3895 - acc: 0.8747 - val_loss: 0.7655 - val_acc: 0.5128\n",
      "Epoch 6/10\n",
      "7/7 [==============================] - 1s 172ms/step - loss: 0.2346 - acc: 0.9872 - val_loss: 0.8841 - val_acc: 0.5083\n",
      "Epoch 7/10\n",
      "7/7 [==============================] - 1s 144ms/step - loss: 0.2976 - acc: 0.8642 - val_loss: 0.7469 - val_acc: 0.5430\n",
      "Epoch 8/10\n",
      "7/7 [==============================] - 1s 151ms/step - loss: 0.1393 - acc: 1.0000 - val_loss: 0.6995 - val_acc: 0.5775\n",
      "Epoch 9/10\n",
      "7/7 [==============================] - 1s 151ms/step - loss: 0.0878 - acc: 0.9968 - val_loss: 0.8379 - val_acc: 0.5181\n",
      "Epoch 10/10\n",
      "7/7 [==============================] - 1s 153ms/step - loss: 0.1182 - acc: 1.0000 - val_loss: 0.7295 - val_acc: 0.5745\n"
     ]
    }
   ],
   "source": [
    "# Training and evaluation\n",
    "\n",
    "model.compile(optimizer='rmsprop',loss='binary_crossentropy',metrics=['acc'])\n",
    "\n",
    "history = model.fit(x_train, y_train,epochs=10,batch_size=32,validation_data=(x_val, y_val))"
   ]
  },
  {
   "cell_type": "code",
   "execution_count": 31,
   "metadata": {},
   "outputs": [],
   "source": [
    "model.save_weights('pre_trained_glove_model.h5')"
   ]
  },
  {
   "cell_type": "code",
   "execution_count": 32,
   "metadata": {},
   "outputs": [
    {
     "data": {
      "image/png": "[encoded data removed]",
      "text/plain": [
       "<Figure size 432x288 with 1 Axes>"
      ]
     },
     "metadata": {
      "needs_background": "light"
     },
     "output_type": "display_data"
    },
    {
     "data": {
      "image/png": "[encoded data removed]",
      "text/plain": [
       "<Figure size 432x288 with 1 Axes>"
      ]
     },
     "metadata": {
      "needs_background": "light"
     },
     "output_type": "display_data"
    }
   ],
   "source": [
    "# Plotting the results\n",
    "\n",
    "import matplotlib.pyplot as plt\n",
    "\n",
    "acc = history.history['acc']\n",
    "val_acc = history.history['val_acc']\n",
    "loss = history.history['loss']\n",
    "val_loss = history.history['val_loss']\n",
    "epochs = range(1, len(acc) + 1)\n",
    "\n",
    "plt.plot(epochs, acc, 'bo', label='Training acc')\n",
    "plt.plot(epochs, val_acc, 'b', label='Validation acc')\n",
    "plt.title('Training and validation accuracy')\n",
    "plt.legend()\n",
    "plt.figure()\n",
    "\n",
    "plt.plot(epochs, loss, 'bo', label='Training loss')\n",
    "plt.plot(epochs, val_loss, 'b', label='Validation loss')\n",
    "plt.title('Training and validation loss')\n",
    "plt.legend()\n",
    "\n",
    "plt.show()"
   ]
  },
  {
   "cell_type": "markdown",
   "metadata": {},
   "source": [
    "The model quickly starts overfitting, which is unsurprising given the small number of\n",
    "training samples. Validation accuracy has high variance for the same reason, but it\n",
    "seems to reach the high 50s.\n",
    " \n",
    "Note that our mileage may vary: because we have so few training samples, performance is heavily dependent on exactly which 200 samples we choose—and we’re\n",
    "choosing them at random. \n",
    "\n",
    "If this works poorly for us, try choosing a different random set of 200 samples, for the sake of the exercise (in real life, we don’t get to choose our training data).\n",
    " \n",
    "We can also train the same model without loading the pretrained word embeddings and without freezing the embedding layer. In that case, we’ll learn a taskspecific embedding of the input tokens, which is generally more powerful than\n",
    "pretrained word embeddings when lots of data is available. But in this case, we have\n",
    "only 200 training samples."
   ]
  },
  {
   "cell_type": "code",
   "execution_count": 33,
   "metadata": {},
   "outputs": [
    {
     "name": "stdout",
     "output_type": "stream",
     "text": [
      "Model: \"sequential_1\"\n",
      "_________________________________________________________________\n",
      "Layer (type)                 Output Shape              Param #   \n",
      "=================================================================\n",
      "embedding_1 (Embedding)      (None, 100, 100)          1000000   \n",
      "_________________________________________________________________\n",
      "flatten_1 (Flatten)          (None, 10000)             0         \n",
      "_________________________________________________________________\n",
      "dense_2 (Dense)              (None, 32)                320032    \n",
      "_________________________________________________________________\n",
      "dense_3 (Dense)              (None, 1)                 33        \n",
      "=================================================================\n",
      "Total params: 1,320,065\n",
      "Trainable params: 1,320,065\n",
      "Non-trainable params: 0\n",
      "_________________________________________________________________\n"
     ]
    }
   ],
   "source": [
    "#  Training the same model without pretrained word embeddings\n",
    "\n",
    "model = Sequential()\n",
    "model.add(Embedding(max_words, embedding_dim, input_length=maxlen))\n",
    "model.add(Flatten())\n",
    "model.add(Dense(32, activation='relu'))\n",
    "model.add(Dense(1, activation='sigmoid'))\n",
    "\n",
    "model.summary()\n",
    "\n",
    "model.compile(optimizer='rmsprop',loss='binary_crossentropy',metrics=['acc'])"
   ]
  },
  {
   "cell_type": "code",
   "execution_count": 34,
   "metadata": {},
   "outputs": [
    {
     "name": "stdout",
     "output_type": "stream",
     "text": [
      "Epoch 1/10\n",
      "7/7 [==============================] - 2s 206ms/step - loss: 0.6945 - acc: 0.4676 - val_loss: 0.6909 - val_acc: 0.5305\n",
      "Epoch 2/10\n",
      "7/7 [==============================] - 1s 188ms/step - loss: 0.5282 - acc: 0.9643 - val_loss: 0.6906 - val_acc: 0.5318\n",
      "Epoch 3/10\n",
      "7/7 [==============================] - 1s 183ms/step - loss: 0.3281 - acc: 0.9874 - val_loss: 0.7058 - val_acc: 0.5284\n",
      "Epoch 4/10\n",
      "7/7 [==============================] - 1s 164ms/step - loss: 0.1485 - acc: 1.0000 - val_loss: 0.7009 - val_acc: 0.5387\n",
      "Epoch 5/10\n",
      "7/7 [==============================] - 1s 160ms/step - loss: 0.0658 - acc: 1.0000 - val_loss: 0.7154 - val_acc: 0.5399\n",
      "Epoch 6/10\n",
      "7/7 [==============================] - 1s 161ms/step - loss: 0.0324 - acc: 1.0000 - val_loss: 0.7191 - val_acc: 0.5464\n",
      "Epoch 7/10\n",
      "7/7 [==============================] - 1s 162ms/step - loss: 0.0180 - acc: 1.0000 - val_loss: 0.7331 - val_acc: 0.5446\n",
      "Epoch 8/10\n",
      "7/7 [==============================] - 1s 176ms/step - loss: 0.0104 - acc: 1.0000 - val_loss: 0.7324 - val_acc: 0.5466\n",
      "Epoch 9/10\n",
      "7/7 [==============================] - 1s 167ms/step - loss: 0.0060 - acc: 1.0000 - val_loss: 0.7449 - val_acc: 0.5421\n",
      "Epoch 10/10\n",
      "7/7 [==============================] - 1s 187ms/step - loss: 0.0037 - acc: 1.0000 - val_loss: 0.7449 - val_acc: 0.5469\n"
     ]
    }
   ],
   "source": [
    "history = model.fit(x_train, y_train,epochs=10,batch_size=32,validation_data=(x_val, y_val))"
   ]
  },
  {
   "cell_type": "code",
   "execution_count": 35,
   "metadata": {},
   "outputs": [
    {
     "data": {
      "image/png": "[encoded data removed]",
      "text/plain": [
       "<Figure size 432x288 with 1 Axes>"
      ]
     },
     "metadata": {
      "needs_background": "light"
     },
     "output_type": "display_data"
    },
    {
     "data": {
      "image/png": "[encoded data removed]",
      "text/plain": [
       "<Figure size 432x288 with 1 Axes>"
      ]
     },
     "metadata": {
      "needs_background": "light"
     },
     "output_type": "display_data"
    }
   ],
   "source": [
    "acc = history.history['acc']\n",
    "val_acc = history.history['val_acc']\n",
    "loss = history.history['loss']\n",
    "val_loss = history.history['val_loss']\n",
    "epochs = range(1, len(acc) + 1)\n",
    "\n",
    "plt.plot(epochs, acc, 'bo', label='Training acc')\n",
    "plt.plot(epochs, val_acc, 'b', label='Validation acc')\n",
    "plt.title('Training and validation accuracy')\n",
    "plt.legend()\n",
    "plt.figure()\n",
    "\n",
    "plt.plot(epochs, loss, 'bo', label='Training loss')\n",
    "plt.plot(epochs, val_loss, 'b', label='Validation loss')\n",
    "plt.title('Training and validation loss')\n",
    "plt.legend()\n",
    "\n",
    "plt.show()"
   ]
  },
  {
   "cell_type": "markdown",
   "metadata": {},
   "source": [
    "Validation accuracy stalls in the low 50s. So in this case, pretrained word embeddings\n",
    "outperform jointly learned embeddings. \n",
    "\n",
    "If we increase the number of training samples, this will quickly stop being the case—try it as an exercise.\n",
    " \n",
    "Finally, let’s evaluate the model on the test data. First, we need to tokenize the test\n",
    "data."
   ]
  },
  {
   "cell_type": "code",
   "execution_count": 37,
   "metadata": {},
   "outputs": [],
   "source": [
    "# Tokenizing the data of the test set\n",
    "\n",
    "test_dir = os.path.join(imdb_dir, 'test')\n",
    "\n",
    "labels = []\n",
    "texts = []\n",
    "\n",
    "for label_type in ['neg', 'pos']:\n",
    "    dir_name = os.path.join(test_dir, label_type)\n",
    "    for fname in sorted(os.listdir(dir_name)):\n",
    "        if fname[-4:] == '.txt':\n",
    "            f = open(os.path.join(dir_name, fname), encoding = \"utf-8\")\n",
    "            texts.append(f.read())\n",
    "            f.close()\n",
    "            \n",
    "            if label_type == 'neg':\n",
    "                labels.append(0)\n",
    "            else:\n",
    "                labels.append(1)\n"
   ]
  },
  {
   "cell_type": "code",
   "execution_count": 38,
   "metadata": {},
   "outputs": [],
   "source": [
    "sequences = tokenizer.texts_to_sequences(texts)\n",
    "x_test = pad_sequences(sequences, maxlen=maxlen)\n",
    "y_test = np.asarray(labels)"
   ]
  },
  {
   "cell_type": "code",
   "execution_count": 39,
   "metadata": {},
   "outputs": [
    {
     "name": "stdout",
     "output_type": "stream",
     "text": [
      "782/782 [==============================] - 2s 3ms/step - loss: 0.7414 - acc: 0.5631A: 0s - loss: 0.7422 - acc: \n"
     ]
    },
    {
     "data": {
      "text/plain": [
       "[0.7413554191589355, 0.5630800127983093]"
      ]
     },
     "execution_count": 39,
     "metadata": {},
     "output_type": "execute_result"
    }
   ],
   "source": [
    "# Evaluating the model on the test set\n",
    "\n",
    "model.load_weights('pre_trained_glove_model.h5')\n",
    "model.evaluate(x_test, y_test)"
   ]
  },
  {
   "cell_type": "markdown",
   "metadata": {},
   "source": [
    "We get an appalling test accuracy of `56%`. Working with just a handful of training\n",
    "samples is difficult!"
   ]
  },
  {
   "cell_type": "markdown",
   "metadata": {},
   "source": [
    "### Conclusion\n",
    "\n",
    "Now we’re able to do the following:\n",
    "\n",
    "* Turn raw text into something a neural network can process\n",
    "* Use the Embedding layer in a Keras model to learn task-specific token embeddings\n",
    "* Use pretrained word embeddings to get an extra boost on small natural language-processing problems"
   ]
  },
  {
   "cell_type": "code",
   "execution_count": null,
   "metadata": {},
   "outputs": [],
   "source": []
  }
 ],
 "metadata": {
  "kernelspec": {
   "display_name": "Python 3",
   "language": "python",
   "name": "python3"
  },
  "language_info": {
   "codemirror_mode": {
    "name": "ipython",
    "version": 3
   },
   "file_extension": ".py",
   "mimetype": "text/x-python",
   "name": "python",
   "nbconvert_exporter": "python",
   "pygments_lexer": "ipython3",
   "version": "3.7.6"
  }
 },
 "nbformat": 4,
 "nbformat_minor": 4
}
